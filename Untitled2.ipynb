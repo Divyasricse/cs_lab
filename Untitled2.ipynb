{
 "cells": [
  {
   "cell_type": "code",
   "execution_count": 1,
   "id": "7a6da55a",
   "metadata": {},
   "outputs": [],
   "source": [
    "import pandas as pd"
   ]
  },
  {
   "cell_type": "code",
   "execution_count": 3,
   "id": "59e0d4cb",
   "metadata": {},
   "outputs": [],
   "source": [
    "df=pd.read_csv(\"C:\\\\Users\\\\y20cs186\\\\Desktop\\\\c1.csv\")"
   ]
  },
  {
   "cell_type": "code",
   "execution_count": 4,
   "id": "11321c97",
   "metadata": {},
   "outputs": [
    {
     "data": {
      "text/html": [
       "<div>\n",
       "<style scoped>\n",
       "    .dataframe tbody tr th:only-of-type {\n",
       "        vertical-align: middle;\n",
       "    }\n",
       "\n",
       "    .dataframe tbody tr th {\n",
       "        vertical-align: top;\n",
       "    }\n",
       "\n",
       "    .dataframe thead th {\n",
       "        text-align: right;\n",
       "    }\n",
       "</style>\n",
       "<table border=\"1\" class=\"dataframe\">\n",
       "  <thead>\n",
       "    <tr style=\"text-align: right;\">\n",
       "      <th></th>\n",
       "      <th>x</th>\n",
       "      <th>y</th>\n",
       "    </tr>\n",
       "  </thead>\n",
       "  <tbody>\n",
       "    <tr>\n",
       "      <th>0</th>\n",
       "      <td>56</td>\n",
       "      <td>45</td>\n",
       "    </tr>\n",
       "    <tr>\n",
       "      <th>1</th>\n",
       "      <td>78</td>\n",
       "      <td>67</td>\n",
       "    </tr>\n",
       "    <tr>\n",
       "      <th>2</th>\n",
       "      <td>76</td>\n",
       "      <td>45</td>\n",
       "    </tr>\n",
       "    <tr>\n",
       "      <th>3</th>\n",
       "      <td>45</td>\n",
       "      <td>67</td>\n",
       "    </tr>\n",
       "    <tr>\n",
       "      <th>4</th>\n",
       "      <td>68</td>\n",
       "      <td>89</td>\n",
       "    </tr>\n",
       "  </tbody>\n",
       "</table>\n",
       "</div>"
      ],
      "text/plain": [
       "    x   y\n",
       "0  56  45\n",
       "1  78  67\n",
       "2  76  45\n",
       "3  45  67\n",
       "4  68  89"
      ]
     },
     "execution_count": 4,
     "metadata": {},
     "output_type": "execute_result"
    }
   ],
   "source": [
    "df"
   ]
  },
  {
   "cell_type": "code",
   "execution_count": 6,
   "id": "a4b4f0d7",
   "metadata": {},
   "outputs": [],
   "source": [
    "x=df[\"x\"]"
   ]
  },
  {
   "cell_type": "code",
   "execution_count": 7,
   "id": "76c5097b",
   "metadata": {},
   "outputs": [],
   "source": [
    "y=df[\"y\"]"
   ]
  },
  {
   "cell_type": "code",
   "execution_count": 10,
   "id": "61d93992",
   "metadata": {},
   "outputs": [],
   "source": [
    "def  summation(l):\n",
    "    sum=0\n",
    "    for i in l:\n",
    "        sum=sum+i\n",
    "    return sum   "
   ]
  },
  {
   "cell_type": "code",
   "execution_count": 13,
   "id": "0f53437c",
   "metadata": {},
   "outputs": [
    {
     "name": "stdout",
     "output_type": "stream",
     "text": [
      "sum of x 323\n",
      "sum of y 313\n",
      "sum of x2 21645\n",
      "sum of xy 20233\n"
     ]
    }
   ],
   "source": [
    "sumx=summation(x)\n",
    "print(\"sum of x\",sumx)\n",
    "sumy=summation(y)\n",
    "print(\"sum of y\",sumy)\n",
    "sumxx=summation(x*x)\n",
    "print(\"sum of x2\",sumxx)\n",
    "sumxy=summation(x*y)\n",
    "print(\"sum of xy\",sumxy)"
   ]
  },
  {
   "cell_type": "code",
   "execution_count": 14,
   "id": "5c6489f7",
   "metadata": {},
   "outputs": [
    {
     "name": "stdout",
     "output_type": "stream",
     "text": [
      "0.016940451745379878\n",
      "61.50564681724846\n"
     ]
    }
   ],
   "source": [
    "slope=((len(x)*sumxy)-(sumx*sumy))/((len(x)*sumxx)-(sumx)**2)\n",
    "print(slope)\n",
    "intercept=((sumxx*sumy)-(sumx*sumxy))/((len(x)*sumxx)-(sumx)**2)\n",
    "print(intercept)"
   ]
  },
  {
   "cell_type": "code",
   "execution_count": 15,
   "id": "e0a0cfd6",
   "metadata": {},
   "outputs": [
    {
     "data": {
      "text/plain": [
       "0    62.454312\n",
       "1    62.827002\n",
       "2    62.793121\n",
       "3    62.267967\n",
       "4    62.657598\n",
       "Name: x, dtype: float64"
      ]
     },
     "execution_count": 15,
     "metadata": {},
     "output_type": "execute_result"
    }
   ],
   "source": [
    "yexp=slope*x+intercept\n",
    "yexp"
   ]
  },
  {
   "cell_type": "code",
   "execution_count": 16,
   "id": "589d51e4",
   "metadata": {},
   "outputs": [
    {
     "data": {
      "text/plain": [
       "0    56\n",
       "1    78\n",
       "2    76\n",
       "3    45\n",
       "4    68\n",
       "Name: x, dtype: int64"
      ]
     },
     "execution_count": 16,
     "metadata": {},
     "output_type": "execute_result"
    }
   ],
   "source": [
    "ycal=df[\"x\"]\n",
    "ycal"
   ]
  },
  {
   "cell_type": "code",
   "execution_count": 17,
   "id": "b4d2d736",
   "metadata": {},
   "outputs": [],
   "source": [
    "import matplotlib.pyplot as plt"
   ]
  },
  {
   "cell_type": "code",
   "execution_count": 20,
   "id": "01bf6dcf",
   "metadata": {},
   "outputs": [
    {
     "data": {
      "image/png": "[encoded data removed]",
      "text/plain": [
       "<Figure size 432x288 with 1 Axes>"
      ]
     },
     "metadata": {
      "needs_background": "light"
     },
     "output_type": "display_data"
    }
   ],
   "source": [
    "plt.plot(x,yexp)\n",
    "plt.scatter(x,yexp)\n",
    "plt.plot(x,ycal)\n",
    "plt.scatter(x,ycal)\n",
    "plt.show()"
   ]
  },
  {
   "cell_type": "code",
   "execution_count": 25,
   "id": "abc6a7cd",
   "metadata": {},
   "outputs": [
    {
     "name": "stdout",
     "output_type": "stream",
     "text": [
      "mean of x 64.6\n",
      "mean of y 62.6\n"
     ]
    }
   ],
   "source": [
    "meanx=sumx/len(x)\n",
    "print(\"mean of x\",meanx)\n",
    "meany=sumy/len(y)\n",
    "print(\"mean of y\",meany)"
   ]
  },
  {
   "cell_type": "code",
   "execution_count": 34,
   "id": "2ba600b7",
   "metadata": {},
   "outputs": [
    {
     "name": "stdout",
     "output_type": "stream",
     "text": [
      "0    -8.6\n",
      "1    13.4\n",
      "2    11.4\n",
      "3   -19.6\n",
      "4     3.4\n",
      "Name: x, dtype: float64\n"
     ]
    }
   ],
   "source": [
    "covx=x-meanx\n",
    "print(covx)\n"
   ]
  },
  {
   "cell_type": "code",
   "execution_count": 35,
   "id": "f5e781e0",
   "metadata": {},
   "outputs": [
    {
     "name": "stdout",
     "output_type": "stream",
     "text": [
      "0   -17.6\n",
      "1     4.4\n",
      "2   -17.6\n",
      "3     4.4\n",
      "4    26.4\n",
      "Name: y, dtype: float64\n"
     ]
    }
   ],
   "source": [
    "covy=y-meany\n",
    "print(covy)\n"
   ]
  },
  {
   "cell_type": "code",
   "execution_count": 37,
   "id": "d55da728",
   "metadata": {},
   "outputs": [
    {
     "data": {
      "text/plain": [
       "13.199999999999974"
      ]
     },
     "execution_count": 37,
     "metadata": {},
     "output_type": "execute_result"
    }
   ],
   "source": [
    "num=summation(covx*covy)\n",
    "num"
   ]
  },
  {
   "cell_type": "code",
   "execution_count": 40,
   "id": "2ec5c79b",
   "metadata": {},
   "outputs": [
    {
     "data": {
      "text/plain": [
       "779.1999999999999"
      ]
     },
     "execution_count": 40,
     "metadata": {},
     "output_type": "execute_result"
    }
   ],
   "source": [
    "den1=summation(covx**2)\n",
    "den1"
   ]
  },
  {
   "cell_type": "code",
   "execution_count": 41,
   "id": "d6bd2e53",
   "metadata": {},
   "outputs": [
    {
     "data": {
      "text/plain": [
       "1355.2"
      ]
     },
     "execution_count": 41,
     "metadata": {},
     "output_type": "execute_result"
    }
   ],
   "source": [
    "den2=summation(covy**2)\n",
    "den2"
   ]
  },
  {
   "cell_type": "code",
   "execution_count": 42,
   "id": "ec2ea52f",
   "metadata": {},
   "outputs": [],
   "source": [
    "import math"
   ]
  },
  {
   "cell_type": "code",
   "execution_count": 44,
   "id": "088534b2",
   "metadata": {},
   "outputs": [
    {
     "data": {
      "text/plain": [
       "1027.6049046204478"
      ]
     },
     "execution_count": 44,
     "metadata": {},
     "output_type": "execute_result"
    }
   ],
   "source": [
    "den=math.sqrt(den1)*math.sqrt(den2)\n",
    "den"
   ]
  },
  {
   "cell_type": "code",
   "execution_count": 45,
   "id": "52597a5d",
   "metadata": {},
   "outputs": [
    {
     "data": {
      "text/plain": [
       "0.012845403851858294"
      ]
     },
     "execution_count": 45,
     "metadata": {},
     "output_type": "execute_result"
    }
   ],
   "source": [
    "cov=num/den\n",
    "cov"
   ]
  },
  {
   "cell_type": "code",
   "execution_count": null,
   "id": "d5c19d15",
   "metadata": {},
   "outputs": [],
   "source": []
  }
 ],
 "metadata": {
  "kernelspec": {
   "display_name": "Python 3 (ipykernel)",
   "language": "python",
   "name": "python3"
  },
  "language_info": {
   "codemirror_mode": {
    "name": "ipython",
    "version": 3
   },
   "file_extension": ".py",
   "mimetype": "text/x-python",
   "name": "python",
   "nbconvert_exporter": "python",
   "pygments_lexer": "ipython3",
   "version": "3.9.7"
  }
 },
 "nbformat": 4,
 "nbformat_minor": 5
}
