{
 "cells": [
  {
   "cell_type": "code",
   "execution_count": 1,
   "id": "ea829265",
   "metadata": {},
   "outputs": [],
   "source": [
    "import pandas as pd"
   ]
  },
  {
   "cell_type": "code",
   "execution_count": 17,
   "id": "9311f616",
   "metadata": {},
   "outputs": [],
   "source": [
    "d=pd.read_csv(\"C:\\\\Users\\\\y20cs186\\\\Desktop\\\\excel.csv\")"
   ]
  },
  {
   "cell_type": "code",
   "execution_count": 18,
   "id": "9376d7b1",
   "metadata": {},
   "outputs": [
    {
     "name": "stdout",
     "output_type": "stream",
     "text": [
      "        name  rollno  n1  n2  n3\n",
      "0      divya     186  78  18  90\n",
      "1    keerthi     142  89  67  89\n",
      "2  sravanthi     170  81  68  60\n"
     ]
    }
   ],
   "source": [
    "k=pd.DataFrame(d)\n",
    "print(k)"
   ]
  },
  {
   "cell_type": "code",
   "execution_count": 20,
   "id": "29ec4f15",
   "metadata": {},
   "outputs": [
    {
     "data": {
      "text/html": [
       "<div>\n",
       "<style scoped>\n",
       "    .dataframe tbody tr th:only-of-type {\n",
       "        vertical-align: middle;\n",
       "    }\n",
       "\n",
       "    .dataframe tbody tr th {\n",
       "        vertical-align: top;\n",
       "    }\n",
       "\n",
       "    .dataframe thead th {\n",
       "        text-align: right;\n",
       "    }\n",
       "</style>\n",
       "<table border=\"1\" class=\"dataframe\">\n",
       "  <thead>\n",
       "    <tr style=\"text-align: right;\">\n",
       "      <th></th>\n",
       "      <th>name</th>\n",
       "      <th>rollno</th>\n",
       "      <th>n1</th>\n",
       "      <th>n2</th>\n",
       "      <th>n3</th>\n",
       "      <th>total</th>\n",
       "    </tr>\n",
       "  </thead>\n",
       "  <tbody>\n",
       "    <tr>\n",
       "      <th>0</th>\n",
       "      <td>divya</td>\n",
       "      <td>186</td>\n",
       "      <td>78</td>\n",
       "      <td>18</td>\n",
       "      <td>90</td>\n",
       "      <td>186</td>\n",
       "    </tr>\n",
       "    <tr>\n",
       "      <th>1</th>\n",
       "      <td>keerthi</td>\n",
       "      <td>142</td>\n",
       "      <td>89</td>\n",
       "      <td>67</td>\n",
       "      <td>89</td>\n",
       "      <td>245</td>\n",
       "    </tr>\n",
       "    <tr>\n",
       "      <th>2</th>\n",
       "      <td>sravanthi</td>\n",
       "      <td>170</td>\n",
       "      <td>81</td>\n",
       "      <td>68</td>\n",
       "      <td>60</td>\n",
       "      <td>209</td>\n",
       "    </tr>\n",
       "  </tbody>\n",
       "</table>\n",
       "</div>"
      ],
      "text/plain": [
       "        name  rollno  n1  n2  n3  total\n",
       "0      divya     186  78  18  90    186\n",
       "1    keerthi     142  89  67  89    245\n",
       "2  sravanthi     170  81  68  60    209"
      ]
     },
     "execution_count": 20,
     "metadata": {},
     "output_type": "execute_result"
    }
   ],
   "source": [
    "k[\"total\"]=k[\"n1\"]+k[\"n2\"]+k[\"n3\"]\n",
    "k"
   ]
  },
  {
   "cell_type": "code",
   "execution_count": 22,
   "id": "b0fd9c38",
   "metadata": {},
   "outputs": [
    {
     "data": {
      "text/html": [
       "<div>\n",
       "<style scoped>\n",
       "    .dataframe tbody tr th:only-of-type {\n",
       "        vertical-align: middle;\n",
       "    }\n",
       "\n",
       "    .dataframe tbody tr th {\n",
       "        vertical-align: top;\n",
       "    }\n",
       "\n",
       "    .dataframe thead th {\n",
       "        text-align: right;\n",
       "    }\n",
       "</style>\n",
       "<table border=\"1\" class=\"dataframe\">\n",
       "  <thead>\n",
       "    <tr style=\"text-align: right;\">\n",
       "      <th></th>\n",
       "      <th>name</th>\n",
       "      <th>rollno</th>\n",
       "      <th>n1</th>\n",
       "      <th>n2</th>\n",
       "      <th>n3</th>\n",
       "      <th>total</th>\n",
       "      <th>percentage</th>\n",
       "    </tr>\n",
       "  </thead>\n",
       "  <tbody>\n",
       "    <tr>\n",
       "      <th>0</th>\n",
       "      <td>divya</td>\n",
       "      <td>186</td>\n",
       "      <td>78</td>\n",
       "      <td>18</td>\n",
       "      <td>90</td>\n",
       "      <td>186</td>\n",
       "      <td>62.000000</td>\n",
       "    </tr>\n",
       "    <tr>\n",
       "      <th>1</th>\n",
       "      <td>keerthi</td>\n",
       "      <td>142</td>\n",
       "      <td>89</td>\n",
       "      <td>67</td>\n",
       "      <td>89</td>\n",
       "      <td>245</td>\n",
       "      <td>81.666667</td>\n",
       "    </tr>\n",
       "    <tr>\n",
       "      <th>2</th>\n",
       "      <td>sravanthi</td>\n",
       "      <td>170</td>\n",
       "      <td>81</td>\n",
       "      <td>68</td>\n",
       "      <td>60</td>\n",
       "      <td>209</td>\n",
       "      <td>69.666667</td>\n",
       "    </tr>\n",
       "  </tbody>\n",
       "</table>\n",
       "</div>"
      ],
      "text/plain": [
       "        name  rollno  n1  n2  n3  total  percentage\n",
       "0      divya     186  78  18  90    186   62.000000\n",
       "1    keerthi     142  89  67  89    245   81.666667\n",
       "2  sravanthi     170  81  68  60    209   69.666667"
      ]
     },
     "execution_count": 22,
     "metadata": {},
     "output_type": "execute_result"
    }
   ],
   "source": [
    "k[\"percentage\"]=k[\"total\"]/3\n",
    "k"
   ]
  },
  {
   "cell_type": "code",
   "execution_count": 30,
   "id": "1ed63bb5",
   "metadata": {},
   "outputs": [],
   "source": [
    "def grade(var):\n",
    "    if var>=90:\n",
    "        return \"A\"\n",
    "    elif var>=80:\n",
    "        return \"B\"\n",
    "    elif var>=70:\n",
    "        return \"C\"\n",
    "    elif var>=60:\n",
    "        return \"D\"\n",
    "for i in range (3):\n",
    "    v=k.iat[i,6]\n",
    "    k.iat[i,7]=grade(v)"
   ]
  },
  {
   "cell_type": "code",
   "execution_count": 31,
   "id": "7e9b03c5",
   "metadata": {},
   "outputs": [
    {
     "data": {
      "text/html": [
       "<div>\n",
       "<style scoped>\n",
       "    .dataframe tbody tr th:only-of-type {\n",
       "        vertical-align: middle;\n",
       "    }\n",
       "\n",
       "    .dataframe tbody tr th {\n",
       "        vertical-align: top;\n",
       "    }\n",
       "\n",
       "    .dataframe thead th {\n",
       "        text-align: right;\n",
       "    }\n",
       "</style>\n",
       "<table border=\"1\" class=\"dataframe\">\n",
       "  <thead>\n",
       "    <tr style=\"text-align: right;\">\n",
       "      <th></th>\n",
       "      <th>name</th>\n",
       "      <th>rollno</th>\n",
       "      <th>n1</th>\n",
       "      <th>n2</th>\n",
       "      <th>n3</th>\n",
       "      <th>total</th>\n",
       "      <th>percentage</th>\n",
       "      <th>grade</th>\n",
       "    </tr>\n",
       "  </thead>\n",
       "  <tbody>\n",
       "    <tr>\n",
       "      <th>0</th>\n",
       "      <td>divya</td>\n",
       "      <td>186</td>\n",
       "      <td>78</td>\n",
       "      <td>18</td>\n",
       "      <td>90</td>\n",
       "      <td>186</td>\n",
       "      <td>62.000000</td>\n",
       "      <td>D</td>\n",
       "    </tr>\n",
       "    <tr>\n",
       "      <th>1</th>\n",
       "      <td>keerthi</td>\n",
       "      <td>142</td>\n",
       "      <td>89</td>\n",
       "      <td>67</td>\n",
       "      <td>89</td>\n",
       "      <td>245</td>\n",
       "      <td>81.666667</td>\n",
       "      <td>B</td>\n",
       "    </tr>\n",
       "    <tr>\n",
       "      <th>2</th>\n",
       "      <td>sravanthi</td>\n",
       "      <td>170</td>\n",
       "      <td>81</td>\n",
       "      <td>68</td>\n",
       "      <td>60</td>\n",
       "      <td>209</td>\n",
       "      <td>69.666667</td>\n",
       "      <td>D</td>\n",
       "    </tr>\n",
       "  </tbody>\n",
       "</table>\n",
       "</div>"
      ],
      "text/plain": [
       "        name  rollno  n1  n2  n3  total  percentage grade\n",
       "0      divya     186  78  18  90    186   62.000000     D\n",
       "1    keerthi     142  89  67  89    245   81.666667     B\n",
       "2  sravanthi     170  81  68  60    209   69.666667     D"
      ]
     },
     "execution_count": 31,
     "metadata": {},
     "output_type": "execute_result"
    }
   ],
   "source": [
    "k"
   ]
  },
  {
   "cell_type": "code",
   "execution_count": 39,
   "id": "80e01249",
   "metadata": {},
   "outputs": [],
   "source": [
    "k.to_csv(r\"C:\\\\Users\\\\y20cs186\\\\Desktop\\\\excel.csv\")"
   ]
  },
  {
   "cell_type": "code",
   "execution_count": null,
   "id": "0ffa0109",
   "metadata": {},
   "outputs": [],
   "source": []
  }
 ],
 "metadata": {
  "kernelspec": {
   "display_name": "Python 3 (ipykernel)",
   "language": "python",
   "name": "python3"
  },
  "language_info": {
   "codemirror_mode": {
    "name": "ipython",
    "version": 3
   },
   "file_extension": ".py",
   "mimetype": "text/x-python",
   "name": "python",
   "nbconvert_exporter": "python",
   "pygments_lexer": "ipython3",
   "version": "3.9.7"
  }
 },
 "nbformat": 4,
 "nbformat_minor": 5
}
